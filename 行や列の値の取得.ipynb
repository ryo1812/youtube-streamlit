{
 "cells": [
  {
   "cell_type": "code",
   "execution_count": 2,
   "id": "50926dce-0549-4cdc-8bd2-7bfe9530b31f",
   "metadata": {
    "tags": []
   },
   "outputs": [],
   "source": [
    "from openpyxl import load_workbook"
   ]
  },
  {
   "cell_type": "code",
   "execution_count": 4,
   "id": "90ab016d-9144-44cd-9852-66e1e310c025",
   "metadata": {
    "tags": []
   },
   "outputs": [],
   "source": [
    "wb = load_workbook(\"demodata.xlsx\")\n",
    "ws = wb[\"Sheet1\"]"
   ]
  },
  {
   "cell_type": "markdown",
   "id": "7d058b8e-0e67-4223-8a47-11e40987ea9c",
   "metadata": {},
   "source": [
    "##セルの値の取得"
   ]
  },
  {
   "cell_type": "code",
   "execution_count": 5,
   "id": "e0b5e860-5681-4a5f-ba9b-64fc41920e90",
   "metadata": {
    "tags": []
   },
   "outputs": [
    {
     "data": {
      "text/plain": [
       "'employee number'"
      ]
     },
     "execution_count": 5,
     "metadata": {},
     "output_type": "execute_result"
    }
   ],
   "source": [
    "ws[\"A1\"].value"
   ]
  },
  {
   "cell_type": "code",
   "execution_count": 7,
   "id": "777a2688-3a64-4135-96d9-0eb61d8d7e0e",
   "metadata": {
    "tags": []
   },
   "outputs": [
    {
     "data": {
      "text/plain": [
       "'sato'"
      ]
     },
     "execution_count": 7,
     "metadata": {},
     "output_type": "execute_result"
    }
   ],
   "source": [
    "ws.cell(row=2, column=2).value"
   ]
  },
  {
   "cell_type": "code",
   "execution_count": 10,
   "id": "02e38427-c343-42b7-ad4e-09bf2a986128",
   "metadata": {
    "tags": []
   },
   "outputs": [],
   "source": [
    "ws.cell(row=2, column=2).value = \"sato\""
   ]
  },
  {
   "cell_type": "code",
   "execution_count": 11,
   "id": "55a981c4-285f-44ba-b9f0-4fafb6f24ffa",
   "metadata": {
    "tags": []
   },
   "outputs": [],
   "source": [
    "wb.save(\"demodata.xlsx\")"
   ]
  },
  {
   "cell_type": "markdown",
   "id": "a25a43a4-c4a9-4278-baeb-0b47b17fac42",
   "metadata": {},
   "source": [
    "##セルの値のコピー&ペースト"
   ]
  },
  {
   "cell_type": "code",
   "execution_count": 12,
   "id": "480d6622-1a4a-41ab-bb16-377eec776674",
   "metadata": {
    "tags": []
   },
   "outputs": [],
   "source": [
    "ws[\"E1\"] = ws[\"A1\"].value"
   ]
  },
  {
   "cell_type": "markdown",
   "id": "064bf08d-28fa-4834-b4d8-9c5d1bdb222b",
   "metadata": {},
   "source": [
    "##行の値の取得"
   ]
  },
  {
   "cell_type": "code",
   "execution_count": 13,
   "id": "f006f1a5-56dc-4273-84f1-9dbac415bf7a",
   "metadata": {
    "tags": []
   },
   "outputs": [],
   "source": [
    "row_data = ws[2] # 1行目は１番目から始まる"
   ]
  },
  {
   "cell_type": "code",
   "execution_count": 14,
   "id": "8c45d2bb-ecd2-4702-af6c-91c9f6c4a654",
   "metadata": {
    "tags": []
   },
   "outputs": [
    {
     "data": {
      "text/plain": [
       "(<Cell 'Sheet1'.A2>,\n",
       " <Cell 'Sheet1'.B2>,\n",
       " <Cell 'Sheet1'.C2>,\n",
       " <Cell 'Sheet1'.D2>,\n",
       " <Cell 'Sheet1'.E2>)"
      ]
     },
     "execution_count": 14,
     "metadata": {},
     "output_type": "execute_result"
    }
   ],
   "source": [
    "row_data"
   ]
  },
  {
   "cell_type": "code",
   "execution_count": 16,
   "id": "c67c9324-234a-4ee9-a4c3-e9e337e231a6",
   "metadata": {
    "tags": []
   },
   "outputs": [
    {
     "name": "stdout",
     "output_type": "stream",
     "text": [
      "1\n",
      "sato\n",
      "ken\n",
      "1992-01-03 00:00:00\n",
      "None\n"
     ]
    }
   ],
   "source": [
    "for cell in row_data:\n",
    "    print(cell.value)"
   ]
  },
  {
   "cell_type": "markdown",
   "id": "1c81763d-ee26-489c-901b-afcc4f338add",
   "metadata": {},
   "source": [
    "##列の値の取得"
   ]
  },
  {
   "cell_type": "code",
   "execution_count": 17,
   "id": "b95509e5-8787-4dca-9ca8-0f94f9b48576",
   "metadata": {
    "tags": []
   },
   "outputs": [
    {
     "data": {
      "text/plain": [
       "(<Cell 'Sheet1'.A1>,\n",
       " <Cell 'Sheet1'.A2>,\n",
       " <Cell 'Sheet1'.A3>,\n",
       " <Cell 'Sheet1'.A4>,\n",
       " <Cell 'Sheet1'.A5>,\n",
       " <Cell 'Sheet1'.A6>)"
      ]
     },
     "execution_count": 17,
     "metadata": {},
     "output_type": "execute_result"
    }
   ],
   "source": [
    "col_data = ws[\"A\"]\n",
    "col_data"
   ]
  },
  {
   "cell_type": "code",
   "execution_count": 18,
   "id": "3f482446-1268-47af-a32e-38397a8e89f4",
   "metadata": {
    "tags": []
   },
   "outputs": [
    {
     "name": "stdout",
     "output_type": "stream",
     "text": [
      "employee number\n",
      "1\n",
      "2\n",
      "3\n",
      "4\n",
      "5\n"
     ]
    }
   ],
   "source": [
    "for cell in col_data:\n",
    "    print(cell.value)"
   ]
  },
  {
   "cell_type": "code",
   "execution_count": 19,
   "id": "630a29de-8351-4a15-9f49-5ea8513fa0a3",
   "metadata": {
    "tags": []
   },
   "outputs": [],
   "source": [
    "for cell in col_data[1:]:\n",
    "    cell.value = cell.value + 1"
   ]
  },
  {
   "cell_type": "code",
   "execution_count": 20,
   "id": "24a0e117-919f-46bf-b809-eb7494cff85c",
   "metadata": {
    "tags": []
   },
   "outputs": [
    {
     "name": "stdout",
     "output_type": "stream",
     "text": [
      "employee number\n",
      "2\n",
      "3\n",
      "4\n",
      "5\n",
      "6\n"
     ]
    }
   ],
   "source": [
    "for cell in col_data:\n",
    "    print(cell.value)"
   ]
  },
  {
   "cell_type": "markdown",
   "id": "2bf14678-98cc-4b2b-bbb0-67fbb1100e12",
   "metadata": {},
   "source": [
    "##特定範囲の値の取得"
   ]
  },
  {
   "cell_type": "code",
   "execution_count": 21,
   "id": "87b95ac6-ec2e-4459-b783-19a83e282bdb",
   "metadata": {
    "tags": []
   },
   "outputs": [
    {
     "data": {
      "text/plain": [
       "((<Cell 'Sheet1'.A1>, <Cell 'Sheet1'.B1>),\n",
       " (<Cell 'Sheet1'.A2>, <Cell 'Sheet1'.B2>),\n",
       " (<Cell 'Sheet1'.A3>, <Cell 'Sheet1'.B3>),\n",
       " (<Cell 'Sheet1'.A4>, <Cell 'Sheet1'.B4>))"
      ]
     },
     "execution_count": 21,
     "metadata": {},
     "output_type": "execute_result"
    }
   ],
   "source": [
    "data = ws [\"A1\" : \"B4\"]\n",
    "data"
   ]
  },
  {
   "cell_type": "code",
   "execution_count": 22,
   "id": "759ac881-dfd7-44cb-94f0-f4b7346d17b9",
   "metadata": {
    "tags": []
   },
   "outputs": [
    {
     "data": {
      "text/plain": [
       "(<Cell 'Sheet1'.A1>, <Cell 'Sheet1'.B1>)"
      ]
     },
     "execution_count": 22,
     "metadata": {},
     "output_type": "execute_result"
    }
   ],
   "source": [
    "data[0]"
   ]
  },
  {
   "cell_type": "code",
   "execution_count": 23,
   "id": "b8e83831-2cdf-4fc3-9bb7-cdc9ebb5fda7",
   "metadata": {
    "tags": []
   },
   "outputs": [
    {
     "data": {
      "text/plain": [
       "<Cell 'Sheet1'.A1>"
      ]
     },
     "execution_count": 23,
     "metadata": {},
     "output_type": "execute_result"
    }
   ],
   "source": [
    "data[0][0]"
   ]
  },
  {
   "cell_type": "code",
   "execution_count": 24,
   "id": "2ad58935-9283-4c53-b2de-1adf29eb9c86",
   "metadata": {
    "tags": []
   },
   "outputs": [
    {
     "data": {
      "text/plain": [
       "'employee number'"
      ]
     },
     "execution_count": 24,
     "metadata": {},
     "output_type": "execute_result"
    }
   ],
   "source": [
    "data[0][0].value"
   ]
  },
  {
   "cell_type": "code",
   "execution_count": 25,
   "id": "4f1603ae-d355-4fb7-b2d6-63994a455538",
   "metadata": {
    "tags": []
   },
   "outputs": [
    {
     "name": "stdout",
     "output_type": "stream",
     "text": [
      "employee number\n",
      "last name\n",
      "2\n",
      "sato\n",
      "3\n",
      "sasaki\n",
      "4\n",
      "tanaka\n"
     ]
    }
   ],
   "source": [
    "for row in data:\n",
    "    for cell in row:\n",
    "        print(cell.value)"
   ]
  },
  {
   "cell_type": "code",
   "execution_count": null,
   "id": "52ada3b4-7023-4f07-a72b-66c6b9db318b",
   "metadata": {},
   "outputs": [],
   "source": []
  }
 ],
 "metadata": {
  "kernelspec": {
   "display_name": "Python 3 (ipykernel)",
   "language": "python",
   "name": "python3"
  },
  "language_info": {
   "codemirror_mode": {
    "name": "ipython",
    "version": 3
   },
   "file_extension": ".py",
   "mimetype": "text/x-python",
   "name": "python",
   "nbconvert_exporter": "python",
   "pygments_lexer": "ipython3",
   "version": "3.10.4"
  }
 },
 "nbformat": 4,
 "nbformat_minor": 5
}
