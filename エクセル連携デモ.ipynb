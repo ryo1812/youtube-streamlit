{
 "cells": [
  {
   "cell_type": "code",
   "execution_count": 3,
   "id": "345cd6c6-668a-4e92-b875-2f20933d3ec6",
   "metadata": {
    "tags": []
   },
   "outputs": [],
   "source": [
    "from openpyxl import Workbook"
   ]
  },
  {
   "cell_type": "code",
   "execution_count": 9,
   "id": "4b1cf75a-d8e5-4a4e-a649-4016416b8eaf",
   "metadata": {
    "tags": []
   },
   "outputs": [],
   "source": [
    "#ワークブックの読み込み\n",
    "wb = load_workbook('demodata.xlsx')"
   ]
  },
  {
   "cell_type": "code",
   "execution_count": 10,
   "id": "cffe87b3-10ed-4ec4-8792-a5ef0f9e509a",
   "metadata": {
    "tags": []
   },
   "outputs": [],
   "source": [
    "#ワークシートの読み込み\n",
    "ws = wb['Sheet1']"
   ]
  },
  {
   "cell_type": "code",
   "execution_count": 8,
   "id": "c6d51479-5bcb-4086-aa0b-3b2b92a9d7a5",
   "metadata": {
    "tags": []
   },
   "outputs": [
    {
     "data": {
      "text/plain": [
       "1"
      ]
     },
     "execution_count": 8,
     "metadata": {},
     "output_type": "execute_result"
    }
   ],
   "source": [
    "#セルの値の読み込み\n",
    "ws[\"A2\"].value"
   ]
  },
  {
   "cell_type": "code",
   "execution_count": 12,
   "id": "995a77ea-3958-4af9-85dd-4c4c43235aa6",
   "metadata": {
    "tags": []
   },
   "outputs": [],
   "source": [
    "#セルの更新と保存\n",
    "ws[\"A1\"].value = \"employee number\"\n",
    "wb.save(\"demodata.xlsx\")"
   ]
  },
  {
   "cell_type": "markdown",
   "id": "84b6a5cf-e467-47d0-863b-93241a523577",
   "metadata": {},
   "source": [
    "# 新しいエクセルファイルの作り方"
   ]
  },
  {
   "cell_type": "code",
   "execution_count": 14,
   "id": "18de8ea9-8cd1-45bb-ae6b-eb0f3c09adfc",
   "metadata": {
    "tags": []
   },
   "outputs": [],
   "source": [
    "wb = Workbook()"
   ]
  },
  {
   "cell_type": "code",
   "execution_count": 15,
   "id": "69d28961-5e56-41d4-91a9-b11905449271",
   "metadata": {
    "tags": []
   },
   "outputs": [],
   "source": [
    "ws = wb.active"
   ]
  },
  {
   "cell_type": "code",
   "execution_count": 16,
   "id": "ace1c89f-3512-4167-ae7f-af68fa68d75e",
   "metadata": {
    "tags": []
   },
   "outputs": [],
   "source": [
    "ws.title = \"test\""
   ]
  },
  {
   "cell_type": "code",
   "execution_count": 18,
   "id": "ce53be86-06b4-4add-aa14-7dd9eb12ec49",
   "metadata": {
    "tags": []
   },
   "outputs": [],
   "source": [
    "# 値の挿入と保存\n",
    "ws[\"A1\"].value = \"test\"\n",
    "wb.save(\"new.xlsx\")"
   ]
  },
  {
   "cell_type": "code",
   "execution_count": null,
   "id": "63576255-910a-4871-b6e3-6403a54cc99b",
   "metadata": {},
   "outputs": [],
   "source": []
  }
 ],
 "metadata": {
  "kernelspec": {
   "display_name": "Python 3 (ipykernel)",
   "language": "python",
   "name": "python3"
  },
  "language_info": {
   "codemirror_mode": {
    "name": "ipython",
    "version": 3
   },
   "file_extension": ".py",
   "mimetype": "text/x-python",
   "name": "python",
   "nbconvert_exporter": "python",
   "pygments_lexer": "ipython3",
   "version": "3.10.4"
  }
 },
 "nbformat": 4,
 "nbformat_minor": 5
}
