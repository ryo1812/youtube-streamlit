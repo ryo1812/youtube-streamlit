{
 "cells": [
  {
   "cell_type": "code",
   "execution_count": 1,
   "id": "5ed4f0b9-d2d1-4b1a-a4d7-f18b5f2c2cb6",
   "metadata": {
    "tags": []
   },
   "outputs": [],
   "source": [
    "from openpyxl import load_workbook"
   ]
  },
  {
   "cell_type": "code",
   "execution_count": 2,
   "id": "633af701-031b-410d-90bb-6b27fc94e590",
   "metadata": {
    "tags": []
   },
   "outputs": [],
   "source": [
    "wb = load_workbook(\"demodata.xlsx\")"
   ]
  },
  {
   "cell_type": "markdown",
   "id": "60a95674-0056-41ca-8ce2-5a790ab35798",
   "metadata": {},
   "source": [
    "##ワークシートの新規作成"
   ]
  },
  {
   "cell_type": "code",
   "execution_count": 3,
   "id": "e398aae7-bda3-4e92-a99a-1e06f5fa707a",
   "metadata": {
    "tags": []
   },
   "outputs": [
    {
     "data": {
      "text/plain": [
       "<Worksheet \"sheet2\">"
      ]
     },
     "execution_count": 3,
     "metadata": {},
     "output_type": "execute_result"
    }
   ],
   "source": [
    "wb.create_sheet(\"sheet2\")"
   ]
  },
  {
   "cell_type": "code",
   "execution_count": 4,
   "id": "ea7958a9-4659-49f9-8571-3d1d80ce0ee7",
   "metadata": {
    "tags": []
   },
   "outputs": [
    {
     "data": {
      "text/plain": [
       "<Worksheet \"NewSheet1\">"
      ]
     },
     "execution_count": 4,
     "metadata": {},
     "output_type": "execute_result"
    }
   ],
   "source": [
    "wb.create_sheet(\"NewSheet1\")"
   ]
  },
  {
   "cell_type": "code",
   "execution_count": 5,
   "id": "b1ae5ae5-e02b-485e-aae9-9f2efd5d3d0b",
   "metadata": {
    "tags": []
   },
   "outputs": [
    {
     "data": {
      "text/plain": [
       "['Sheet1', 'sheet2', 'NewSheet1']"
      ]
     },
     "execution_count": 5,
     "metadata": {},
     "output_type": "execute_result"
    }
   ],
   "source": [
    "wb.sheetnames"
   ]
  },
  {
   "cell_type": "code",
   "execution_count": 7,
   "id": "7f867b03-ec82-42e8-af9b-1891dc075fd5",
   "metadata": {
    "tags": []
   },
   "outputs": [
    {
     "data": {
      "text/plain": [
       "<Worksheet \"NewSheet11\">"
      ]
     },
     "execution_count": 7,
     "metadata": {},
     "output_type": "execute_result"
    }
   ],
   "source": [
    "#位置を指定してシートを作成\n",
    "wb.create_sheet(\"NewSheet1\" , index = 1)"
   ]
  },
  {
   "cell_type": "code",
   "execution_count": 8,
   "id": "7c9aefd2-50ba-46f3-92b8-98361a90bd91",
   "metadata": {
    "tags": []
   },
   "outputs": [
    {
     "data": {
      "text/plain": [
       "['Sheet1', 'NewSheet11', 'sheet2', 'NewSheet1']"
      ]
     },
     "execution_count": 8,
     "metadata": {},
     "output_type": "execute_result"
    }
   ],
   "source": [
    "wb.sheetnames"
   ]
  },
  {
   "cell_type": "code",
   "execution_count": 9,
   "id": "2e7fd52b-34cf-4655-b44d-3639fc55cd04",
   "metadata": {
    "tags": []
   },
   "outputs": [],
   "source": [
    "wb.save(\"demodate.xlsx\")"
   ]
  },
  {
   "cell_type": "markdown",
   "id": "251f101f-f793-48bf-a048-0048aaeaae0f",
   "metadata": {},
   "source": [
    "##ワークシートのコピー"
   ]
  },
  {
   "cell_type": "code",
   "execution_count": 11,
   "id": "34549835-b9f8-4a48-acf2-b82f66df3ae1",
   "metadata": {
    "tags": []
   },
   "outputs": [
    {
     "data": {
      "text/plain": [
       "<Worksheet \"Sheet1 Copy\">"
      ]
     },
     "execution_count": 11,
     "metadata": {},
     "output_type": "execute_result"
    }
   ],
   "source": [
    "wb.copy_worksheet(wb[\"Sheet1\"])"
   ]
  },
  {
   "cell_type": "code",
   "execution_count": 12,
   "id": "c0c9925f-f9bf-44b6-8905-c533dec80f59",
   "metadata": {
    "tags": []
   },
   "outputs": [
    {
     "data": {
      "text/plain": [
       "['Sheet1', 'NewSheet11', 'sheet2', 'NewSheet1', 'Sheet1 Copy']"
      ]
     },
     "execution_count": 12,
     "metadata": {},
     "output_type": "execute_result"
    }
   ],
   "source": [
    "wb.sheetnames"
   ]
  },
  {
   "cell_type": "code",
   "execution_count": 13,
   "id": "d034681f-2b94-4a3f-a7a8-6ebfb18b407f",
   "metadata": {
    "tags": []
   },
   "outputs": [],
   "source": [
    "wb.save(\"demodata.xlsx\")"
   ]
  },
  {
   "cell_type": "markdown",
   "id": "65034e74-009d-432b-8561-fafffc1d5c63",
   "metadata": {},
   "source": [
    "##ワークシートの削除"
   ]
  },
  {
   "cell_type": "code",
   "execution_count": 16,
   "id": "90c37875-d228-4216-bbbf-c6ba00fb7933",
   "metadata": {
    "tags": []
   },
   "outputs": [],
   "source": [
    "wb.remove(wb[\"NewSheet1\"])"
   ]
  },
  {
   "cell_type": "markdown",
   "id": "74f1becc-bd3f-412a-8e3c-232280cdaf0f",
   "metadata": {},
   "source": [
    "##ワークシート名の変更"
   ]
  },
  {
   "cell_type": "code",
   "execution_count": 17,
   "id": "d94af12d-90c6-494b-9236-9eda06659a49",
   "metadata": {
    "tags": []
   },
   "outputs": [
    {
     "data": {
      "text/plain": [
       "['Sheet1', 'NewSheet11', 'sheet2', 'Sheet1 Copy']"
      ]
     },
     "execution_count": 17,
     "metadata": {},
     "output_type": "execute_result"
    }
   ],
   "source": [
    "wb.sheetnames"
   ]
  },
  {
   "cell_type": "code",
   "execution_count": 21,
   "id": "6fb8851b-450d-4f21-a85b-46f64dce3026",
   "metadata": {
    "tags": []
   },
   "outputs": [],
   "source": [
    "wb[\"Sheets\"].title = \"Sheet5\""
   ]
  },
  {
   "cell_type": "code",
   "execution_count": 22,
   "id": "77b4b266-6dcc-4097-96a5-84eae792b1fb",
   "metadata": {
    "tags": []
   },
   "outputs": [
    {
     "data": {
      "text/plain": [
       "['Sheet5', 'NewSheet11', 'sheet2', 'Sheet1 Copy']"
      ]
     },
     "execution_count": 22,
     "metadata": {},
     "output_type": "execute_result"
    }
   ],
   "source": [
    "wb.sheetnames"
   ]
  },
  {
   "cell_type": "code",
   "execution_count": 23,
   "id": "d374b4e5-a0c2-41cf-b199-112c3b4961ac",
   "metadata": {
    "tags": []
   },
   "outputs": [],
   "source": [
    "wb[\"Sheet5\"].title = \"Sheet1\""
   ]
  },
  {
   "cell_type": "code",
   "execution_count": null,
   "id": "7a9d5e9a-c0fa-4c9b-a440-5ed30c64527e",
   "metadata": {},
   "outputs": [],
   "source": []
  }
 ],
 "metadata": {
  "kernelspec": {
   "display_name": "Python 3 (ipykernel)",
   "language": "python",
   "name": "python3"
  },
  "language_info": {
   "codemirror_mode": {
    "name": "ipython",
    "version": 3
   },
   "file_extension": ".py",
   "mimetype": "text/x-python",
   "name": "python",
   "nbconvert_exporter": "python",
   "pygments_lexer": "ipython3",
   "version": "3.10.4"
  }
 },
 "nbformat": 4,
 "nbformat_minor": 5
}
