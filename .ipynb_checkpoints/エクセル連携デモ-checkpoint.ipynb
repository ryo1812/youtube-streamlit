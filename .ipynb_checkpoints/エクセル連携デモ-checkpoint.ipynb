{
 "cells": [
  {
   "cell_type": "code",
   "execution_count": 3,
   "id": "345cd6c6-668a-4e92-b875-2f20933d3ec6",
   "metadata": {
    "tags": []
   },
   "outputs": [],
   "source": [
    "from openpyxl import Workbook"
   ]
  },
  {
   "cell_type": "code",
   "execution_count": 9,
   "id": "4b1cf75a-d8e5-4a4e-a649-4016416b8eaf",
   "metadata": {
    "tags": []
   },
   "outputs": [],
   "source": [
    "#ワークブックの読み込み\n",
    "wb = load_workbook('demodata.xlsx')"
   ]
  },
  {
   "cell_type": "code",
   "execution_count": 10,
   "id": "cffe87b3-10ed-4ec4-8792-a5ef0f9e509a",
   "metadata": {
    "tags": []
   },
   "outputs": [],
   "source": [
    "#ワークシートの読み込み\n",
    "ws = wb['Sheet1']"
   ]
  },
  {
   "cell_type": "code",
   "execution_count": 8,
   "id": "c6d51479-5bcb-4086-aa0b-3b2b92a9d7a5",
   "metadata": {
    "tags": []
   },
   "outputs": [
    {
     "data": {
      "text/plain": [
       "1"
      ]
     },
     "execution_count": 8,
     "metadata": {},
     "output_type": "execute_result"
    }
   ],
   "source": [
    "#セルの値の読み込み\n",
    "ws[\"A2\"].value"
   ]
  },
  {
   "cell_type": "code",
   "execution_count": 12,
   "id": "995a77ea-3958-4af9-85dd-4c4c43235aa6",
   "metadata": {
    "tags": []
   },
   "outputs": [],
   "source": [
    "#セルの更新と保存\n",
    "ws[\"A1\"].value = \"employee number\"\n",
    "wb.save(\"demodata.xlsx\")"
   ]
  },
  {
   "cell_type": "code",
   "execution_count": null,
   "id": "8b9ac9e1-20a5-4c00-b49a-c273354b086e",
   "metadata": {},
   "outputs": [],
   "source": []
  }
 ],
 "metadata": {
  "kernelspec": {
   "display_name": "Python 3 (ipykernel)",
   "language": "python",
   "name": "python3"
  },
  "language_info": {
   "codemirror_mode": {
    "name": "ipython",
    "version": 3
   },
   "file_extension": ".py",
   "mimetype": "text/x-python",
   "name": "python",
   "nbconvert_exporter": "python",
   "pygments_lexer": "ipython3",
   "version": "3.10.4"
  }
 },
 "nbformat": 4,
 "nbformat_minor": 5
}
